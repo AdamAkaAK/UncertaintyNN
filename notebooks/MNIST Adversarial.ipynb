{
 "cells": [
  {
   "cell_type": "code",
   "execution_count": 13,
   "metadata": {},
   "outputs": [],
   "source": [
    "import sys\n",
    "sys.path.append(\"../\") # go to parent dir to allow imports\n",
    "\n",
    "from models import mnist_model\n",
    "from tensorflow.examples.tutorials.mnist import input_data\n",
    "\n",
    "import tensorflow as tf\n",
    "import numpy as np\n",
    "from numpy.random import uniform\n",
    "\n",
    "import matplotlib\n",
    "%matplotlib inline\n",
    "import matplotlib.pyplot as plt\n",
    "import seaborn as sns\n",
    "import imageio"
   ]
  },
  {
   "cell_type": "code",
   "execution_count": 6,
   "metadata": {},
   "outputs": [
    {
     "name": "stdout",
     "output_type": "stream",
     "text": [
      "The autoreload extension is already loaded. To reload it, use:\n",
      "  %reload_ext autoreload\n"
     ]
    }
   ],
   "source": [
    "%load_ext autoreload\n",
    "%autoreload 2"
   ]
  },
  {
   "cell_type": "code",
   "execution_count": null,
   "metadata": {},
   "outputs": [],
   "source": [
    "img = mnist.test.images[1]\n",
    "#img = adv_img\n",
    "#img = uniform(size=(28, 28))\n",
    "\n",
    "show(img)\n",
    "#print(np.argmax(sess.run(props, feed_dict={x_data: img.reshape(-1, 784), dropout_rate_data: 0.5})))\n",
    "\n",
    "uncertainties = []\n",
    "ys = []\n",
    "for i in range(50):\n",
    "    ys.append(sess.run(props, feed_dict={x_data: img.reshape(-1, 784), dropout_rate_data: 0.5})[0])\n",
    "    \n",
    "    uncertainties.append(sess.run(tf.square(uncertainty), feed_dict={x_data: img.reshape(-1, 784), dropout_rate_data: 0.5})[0])\n",
    "\n",
    "fig, axs = plt.subplots(1, 2, figsize=(20, 10))\n",
    "axs[0].bar(labels, np.array(ys).mean(axis=0))\n",
    "axs[1].bar(labels, np.array(uncertainties).mean(axis=0))"
   ]
  },
  {
   "cell_type": "code",
   "execution_count": 14,
   "metadata": {},
   "outputs": [
    {
     "name": "stdout",
     "output_type": "stream",
     "text": [
      "Extracting ../data/MNIST-data/train-images-idx3-ubyte.gz\n",
      "Extracting ../data/MNIST-data/train-labels-idx1-ubyte.gz\n",
      "Extracting ../data/MNIST-data/t10k-images-idx3-ubyte.gz\n",
      "Extracting ../data/MNIST-data/t10k-labels-idx1-ubyte.gz\n"
     ]
    }
   ],
   "source": [
    "ticks = [str(x) for x in range(10)]\n",
    "\n",
    "def show(img):\n",
    "    \"\"\"Displays single mnist digit\"\"\"\n",
    "    plt.imshow(img.reshape([28, 28]), cmap=\"gray\")\n",
    "    plt.show()\n",
    "    \n",
    "def show_with_var(img, prob, var):\n",
    "    \"\"\"Display single mnist digit next to the variance per class\"\"\"\n",
    "    fig, axs = plt.subplots(1, 3, figsize=(10,5))\n",
    "    axs[0].imshow(img.reshape([28, 28]))\n",
    "    axs[1].bar(ticks, prob)\n",
    "    axs[2].bar(ticks, var)\n",
    "    plt.show()\n",
    "    \n",
    "def save_img(path, img):\n",
    "    imageio.imsave(path, img.reshape([28, 28]))\n",
    "        \n",
    "mnist = input_data.read_data_sets(\"../data/MNIST-data\", one_hot=True)\n",
    "adv_img = imageio.imread(\"adv_img.png\").reshape(784)\n",
    "img = imageio.imread(\"img.png\").reshape(784)\n",
    "random_img = uniform(size=784)"
   ]
  },
  {
   "cell_type": "markdown",
   "metadata": {},
   "source": [
    "# Crafting Adversarial Examples\n",
    "\n",
    "The adversarial image is created by projected gradient descent with the pretrained dropout model with no MC Dropout. (http://www.anishathalye.com/2017/07/25/synthesizing-adversarial-examples/)\n",
    "\n",
    "The used model is the dropout model, but adversarial images transfer and fool the other models too"
   ]
  },
  {
   "cell_type": "code",
   "execution_count": 63,
   "metadata": {},
   "outputs": [],
   "source": [
    "def modify_to(img, target, steps=10000):\n",
    "    tf.reset_default_graph()\n",
    "    dropout_rate=0.0\n",
    "    learning_rate=0.001\n",
    "\n",
    "    x_hat = tf.Variable(tf.zeros((784))) # trainable image\n",
    "    x = tf.placeholder(tf.float32, 784) # the image will be fed into this placeholder\n",
    "    dropout_rate = tf.placeholder(tf.float32)\n",
    "\n",
    "    assign_op = tf.assign(x_hat, x)  # x_hat <- x\n",
    "\n",
    "    logits, probs = mnist_model.dropout_cnn_mnist_model(x_hat, dropout_rate, reuse=False)\n",
    "\n",
    "    y_hat = tf.placeholder(tf.int32, ())\n",
    "    labels = tf.one_hot(y_hat, 10)\n",
    "    loss = tf.nn.softmax_cross_entropy_with_logits(logits=logits, labels=[labels])\n",
    "\n",
    "    optim_step = tf.train.GradientDescentOptimizer(learning_rate).minimize(loss, var_list=[x_hat])\n",
    "    #optim_step = tf.train.AdamOptimizer(learning_rate).minimize(loss, var_list=[x_hat])\n",
    "    epsilon = tf.placeholder(tf.float32, ())\n",
    "\n",
    "    below = x - epsilon\n",
    "    above = x + epsilon\n",
    "    projected = tf.clip_by_value(tf.clip_by_value(x_hat, below, above), 0, 1)\n",
    "    with tf.control_dependencies([projected]):\n",
    "        project_step = tf.assign(x_hat, projected)\n",
    "\n",
    "    init = tf.global_variables_initializer()\n",
    "    sess = tf.Session(config=tf.ConfigProto(log_device_placement=True))\n",
    "    sess.run(init)\n",
    "\n",
    "    # Initialize all variables and restore trained weights\n",
    "    variable_list = tf.get_collection(tf.GraphKeys.GLOBAL_VARIABLES, scope=\"mnist\")[:8]\n",
    "    saver = tf.train.Saver(var_list=variable_list)\n",
    "    saver.restore(sess, \"mnist_dropout.ckpt\")\n",
    "    \n",
    "    print(\"Modifying image to {}\".format(target))\n",
    "    demo_epsilon = 0.3\n",
    "    demo_target = target\n",
    "    demo_steps = steps\n",
    "\n",
    "    sess.run(assign_op, feed_dict={x: img})\n",
    "\n",
    "    for i in range(demo_steps):\n",
    "        # gradient descent step\n",
    "        _, loss_value = sess.run(\n",
    "            [optim_step, loss],\n",
    "            feed_dict={dropout_rate: 0, y_hat: demo_target})\n",
    "        # project step\n",
    "        sess.run(project_step, feed_dict={x: img, epsilon: demo_epsilon})\n",
    "        if (i+1) % 2500 == 0:\n",
    "            print('step %d, loss=%g' % (i+1, loss_value))\n",
    "            #print(np.argmax(sess.run(probs, feed_dict={dropout_rate: 0.4})[0]))\n",
    "\n",
    "    adv_img = sess.run(x_hat)\n",
    "\n",
    "    show(adv_img)\n",
    "    #show(adv_img - img)\n",
    "    return adv_img"
   ]
  },
  {
   "cell_type": "code",
   "execution_count": 64,
   "metadata": {},
   "outputs": [
    {
     "data": {
      "image/png": "[encoded data removed]",
      "text/plain": [
       "<matplotlib.figure.Figure at 0x7f43fd911810>"
      ]
     },
     "metadata": {},
     "output_type": "display_data"
    },
    {
     "name": "stdout",
     "output_type": "stream",
     "text": [
      "INFO:tensorflow:Restoring parameters from mnist_dropout.ckpt\n",
      "Modifying image to 5\n",
      "step 2500, loss=0.0754685\n",
      "step 5000, loss=0.0419934\n",
      "step 7500, loss=0.0302822\n",
      "step 10000, loss=0.023944\n"
     ]
    },
    {
     "data": {
      "image/png": "[encoded data removed]",
      "text/plain": [
       "<matplotlib.figure.Figure at 0x7f437cbadfd0>"
      ]
     },
     "metadata": {},
     "output_type": "display_data"
    }
   ],
   "source": [
    "x_test = mnist.test.images\n",
    "img = x_test[7]  # example image to be modified \n",
    "show(img)\n",
    "adv_img = modify_to(img, 5, steps=10000)\n",
    "imageio.imsave(\"adv_img.png\", adv_img.reshape([28, 28]))\n",
    "imageio.imsave(\"img.png\", img.reshape([28, 28]))"
   ]
  },
  {
   "cell_type": "markdown",
   "metadata": {},
   "source": [
    "# Adversarial Standard Network"
   ]
  },
  {
   "cell_type": "code",
   "execution_count": 74,
   "metadata": {},
   "outputs": [
    {
     "data": {
      "image/png": "[encoded data removed]",
      "text/plain": [
       "<matplotlib.figure.Figure at 0x7f43fe0c1650>"
      ]
     },
     "metadata": {},
     "output_type": "display_data"
    }
   ],
   "source": [
    "# Needs to have the Dropout model loaded\n",
    "dropout_inference(adv_img, dropout=0.)"
   ]
  },
  {
   "cell_type": "markdown",
   "metadata": {},
   "source": [
    "# Adversarial Dropout Network"
   ]
  },
  {
   "cell_type": "code",
   "execution_count": 75,
   "metadata": {},
   "outputs": [
    {
     "name": "stdout",
     "output_type": "stream",
     "text": [
      "INFO:tensorflow:Restoring parameters from mnist_dropout.ckpt\n"
     ]
    }
   ],
   "source": [
    "tf.reset_default_graph()\n",
    "\n",
    "#x_hat = tf.Variable(tf.zeros((784))) # trainable image\n",
    "x_data = tf.placeholder(tf.float32, 784) # the image will be fed into this placeholder\n",
    "dropout_rate_data = tf.placeholder(tf.float32)\n",
    "n_passes = 50\n",
    "\n",
    "logits, class_prob = mnist_model.dropout_cnn_mnist_model(x_data, dropout_rate_data)\n",
    "\n",
    "init = tf.global_variables_initializer()\n",
    "sess = tf.Session(config=tf.ConfigProto(log_device_placement=True))\n",
    "sess.run(init)\n",
    "\n",
    "variable_list = tf.get_collection(tf.GraphKeys.GLOBAL_VARIABLES, scope=\"mnist\")[:8]\n",
    "saver = tf.train.Saver(var_list=variable_list)\n",
    "saver.restore(sess, \"mnist_dropout.ckpt\")\n",
    "\n",
    "def dropout_inference(img, dropout=0.5):\n",
    "    y = []\n",
    "    for i in range(n_passes):\n",
    "        y.append(sess.run(class_prob, feed_dict={x_data: img, dropout_rate_data: dropout})[0])\n",
    "\n",
    "    fig, axs = plt.subplots(1, 2, figsize=[20, 10])\n",
    "    axs[0].bar(ticks, np.array(y).var(axis=0))\n",
    "    axs[0].set_title(\"Var\")\n",
    "    axs[1].bar(ticks, np.array(y).mean(axis=0))\n",
    "    axs[1].set_title(\"Mean\")"
   ]
  },
  {
   "cell_type": "code",
   "execution_count": 78,
   "metadata": {},
   "outputs": [
    {
     "data": {
      "image/png": "[encoded data removed]",
      "text/plain": [
       "<matplotlib.figure.Figure at 0x7f43fdecf590>"
      ]
     },
     "metadata": {},
     "output_type": "display_data"
    }
   ],
   "source": [
    "dropout_inference(adv_img, dropout=0.5)"
   ]
  },
  {
   "cell_type": "markdown",
   "metadata": {},
   "source": [
    "# Adversarial Bootstrap Network"
   ]
  },
  {
   "cell_type": "code",
   "execution_count": 79,
   "metadata": {},
   "outputs": [
    {
     "name": "stdout",
     "output_type": "stream",
     "text": [
      "INFO:tensorflow:Restoring parameters from mnist_boostrap.ckpt\n"
     ]
    }
   ],
   "source": [
    "tf.reset_default_graph()\n",
    "\n",
    "#x_hat = tf.Variable(tf.zeros((784))) # trainable image\n",
    "x_data = tf.placeholder(tf.float32, 784) # the image will be fed into this placeholder\n",
    "dropout_rate = tf.placeholder(tf.float32)\n",
    "\n",
    "heads = mnist_model.bootstrap_cnn_mnist_model(x_data, dropout_rate)\n",
    "\n",
    "init = tf.global_variables_initializer()\n",
    "sess = tf.Session(config=tf.ConfigProto(log_device_placement=True))\n",
    "sess.run(init)\n",
    "\n",
    "variable_list = tf.get_collection(tf.GraphKeys.GLOBAL_VARIABLES, scope=\"mnist\")[:16]\n",
    "saver = tf.train.Saver(var_list=variable_list)\n",
    "saver.restore(sess, \"mnist_boostrap.ckpt\")\n",
    "\n",
    "def bootstrap_inference(img):\n",
    "    ys = []\n",
    "    for i, head in enumerate(heads):\n",
    "        logits, class_prob = head\n",
    "        y = sess.run(class_prob, feed_dict={x_data: img, dropout_rate: 0.0})[0]\n",
    "        ys.append(y)\n",
    "\n",
    "    fig, axs = plt.subplots(1, 2, figsize=[20, 10])\n",
    "    axs[0].bar(ticks, np.array(ys).var(axis=0))\n",
    "    axs[0].set_title(\"Var\")\n",
    "    axs[1].bar(ticks, np.array(ys).mean(axis=0))\n",
    "    axs[1].set_title(\"Mean\")"
   ]
  },
  {
   "cell_type": "code",
   "execution_count": 80,
   "metadata": {},
   "outputs": [
    {
     "data": {
      "image/png": "[encoded data removed]",
      "text/plain": [
       "<matplotlib.figure.Figure at 0x7f4409b00450>"
      ]
     },
     "metadata": {},
     "output_type": "display_data"
    }
   ],
   "source": [
    "bootstrap_inference(adv_img)"
   ]
  },
  {
   "cell_type": "markdown",
   "metadata": {},
   "source": [
    "# Adversarial Combined Network"
   ]
  }
 ],
 "metadata": {
  "kernelspec": {
   "display_name": "ros_e2e",
   "language": "python",
   "name": "ros_e2e"
  },
  "language_info": {
   "codemirror_mode": {
    "name": "ipython",
    "version": 2
   },
   "file_extension": ".py",
   "mimetype": "text/x-python",
   "name": "python",
   "nbconvert_exporter": "python",
   "pygments_lexer": "ipython2",
   "version": "2.7.6"
  }
 },
 "nbformat": 4,
 "nbformat_minor": 2
}
